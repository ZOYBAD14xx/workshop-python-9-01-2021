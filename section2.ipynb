{
  "nbformat": 4,
  "nbformat_minor": 0,
  "metadata": {
    "colab": {
      "name": "section2.ipynb",
      "provenance": [],
      "authorship_tag": "ABX9TyP1N+p51XbQrKdIUC+CbmbO",
      "include_colab_link": true
    },
    "kernelspec": {
      "name": "python3",
      "display_name": "Python 3"
    }
  },
  "cells": [
    {
      "cell_type": "markdown",
      "metadata": {
        "id": "view-in-github",
        "colab_type": "text"
      },
      "source": [
        "<a href=\"https://colab.research.google.com/github/ZOYBAD14xx/workshop-python-9-01-2021/blob/main/section2.ipynb\" target=\"_parent\"><img src=\"https://colab.research.google.com/assets/colab-badge.svg\" alt=\"Open In Colab\"/></a>"
      ]
    },
    {
      "cell_type": "code",
      "metadata": {
        "colab": {
          "base_uri": "https://localhost:8080/"
        },
        "id": "d4aIoxR9AmYW",
        "outputId": "eda51af8-d77d-48bb-d740-7369ab31a9c2"
      },
      "source": [
        "list_family = [\"Dad\",\"Mom\",\"Babe\"]\r\n",
        "print(list_family)"
      ],
      "execution_count": 1,
      "outputs": [
        {
          "output_type": "stream",
          "text": [
            "['Dad', 'Mom', 'Babe']\n"
          ],
          "name": "stdout"
        }
      ]
    },
    {
      "cell_type": "code",
      "metadata": {
        "colab": {
          "base_uri": "https://localhost:8080/"
        },
        "id": "HSAjaxuYBBHB",
        "outputId": "0beee75a-6a82-4bd0-d443-c5ca9dc1b649"
      },
      "source": [
        "for i in range(0,3):\r\n",
        "  print(list_family[i])"
      ],
      "execution_count": 2,
      "outputs": [
        {
          "output_type": "stream",
          "text": [
            "Dad\n",
            "Mom\n",
            "Babe\n"
          ],
          "name": "stdout"
        }
      ]
    },
    {
      "cell_type": "code",
      "metadata": {
        "colab": {
          "base_uri": "https://localhost:8080/"
        },
        "id": "3Itwb7qmBQr3",
        "outputId": "cc7d1fec-62a1-4cd7-fd59-21f374c692fb"
      },
      "source": [
        "list(range(0,3))"
      ],
      "execution_count": 4,
      "outputs": [
        {
          "output_type": "execute_result",
          "data": {
            "text/plain": [
              "[0, 1, 2]"
            ]
          },
          "metadata": {
            "tags": []
          },
          "execution_count": 4
        }
      ]
    },
    {
      "cell_type": "code",
      "metadata": {
        "colab": {
          "base_uri": "https://localhost:8080/",
          "height": 35
        },
        "id": "SE6ufTI3Bfbc",
        "outputId": "cc56ee5d-03c9-44b1-a856-b9ee335b3d09"
      },
      "source": [
        "list_family[-1]"
      ],
      "execution_count": 5,
      "outputs": [
        {
          "output_type": "execute_result",
          "data": {
            "application/vnd.google.colaboratory.intrinsic+json": {
              "type": "string"
            },
            "text/plain": [
              "'Babe'"
            ]
          },
          "metadata": {
            "tags": []
          },
          "execution_count": 5
        }
      ]
    },
    {
      "cell_type": "code",
      "metadata": {
        "colab": {
          "base_uri": "https://localhost:8080/"
        },
        "id": "riUeJktqCDAl",
        "outputId": "7b913532-f9b8-479f-cd2f-8326c9f7d442"
      },
      "source": [
        "list_family[0:]"
      ],
      "execution_count": 17,
      "outputs": [
        {
          "output_type": "execute_result",
          "data": {
            "text/plain": [
              "['Dad', 'Mom', 'Babe']"
            ]
          },
          "metadata": {
            "tags": []
          },
          "execution_count": 17
        }
      ]
    },
    {
      "cell_type": "code",
      "metadata": {
        "colab": {
          "base_uri": "https://localhost:8080/"
        },
        "id": "sfRmucbhC64R",
        "outputId": "3d1f4da1-1459-42b5-be66-655fdf173e9a"
      },
      "source": [
        "n = [1,2,3,4,5]\r\n",
        "n[0:6]"
      ],
      "execution_count": 18,
      "outputs": [
        {
          "output_type": "execute_result",
          "data": {
            "text/plain": [
              "[1, 2, 3, 4, 5]"
            ]
          },
          "metadata": {
            "tags": []
          },
          "execution_count": 18
        }
      ]
    },
    {
      "cell_type": "code",
      "metadata": {
        "colab": {
          "base_uri": "https://localhost:8080/"
        },
        "id": "Z1w8juX-ERzc",
        "outputId": "f8864be0-5c4d-4d79-f2a3-d1967a8c9c05"
      },
      "source": [
        "n[2:3]"
      ],
      "execution_count": 24,
      "outputs": [
        {
          "output_type": "execute_result",
          "data": {
            "text/plain": [
              "[3]"
            ]
          },
          "metadata": {
            "tags": []
          },
          "execution_count": 24
        }
      ]
    },
    {
      "cell_type": "code",
      "metadata": {
        "id": "LtjulaUAEXe3"
      },
      "source": [
        ""
      ],
      "execution_count": 33,
      "outputs": []
    },
    {
      "cell_type": "code",
      "metadata": {
        "colab": {
          "base_uri": "https://localhost:8080/"
        },
        "id": "6iArZ5yeFkPJ",
        "outputId": "1e1ae0c7-c3fd-4a03-8373-a57176e69d2f"
      },
      "source": [
        "list=[]\r\n",
        "n = int(input(\"Enter :\"))\r\n",
        "while n!=0:\r\n",
        "  list.append(n)\r\n",
        "  n = int(input(\"Enter :\"))\r\n",
        "print(list)\r\n",
        "print(list[::-1])"
      ],
      "execution_count": 44,
      "outputs": [
        {
          "output_type": "stream",
          "text": [
            "Enter :2\n",
            "Enter :3\n",
            "Enter :1\n",
            "Enter :0\n",
            "[2, 3, 1]\n",
            "[1, 3, 2]\n"
          ],
          "name": "stdout"
        }
      ]
    },
    {
      "cell_type": "code",
      "metadata": {
        "colab": {
          "base_uri": "https://localhost:8080/"
        },
        "id": "rKCc6FvUG6wt",
        "outputId": "9b01c08d-170c-427e-c56e-0b4d62a7dbb5"
      },
      "source": [
        "my_tuple = ([1,2,3],[4,5,6])\r\n",
        "my_tuple"
      ],
      "execution_count": 46,
      "outputs": [
        {
          "output_type": "execute_result",
          "data": {
            "text/plain": [
              "([1, 2, 3], [4, 5, 6])"
            ]
          },
          "metadata": {
            "tags": []
          },
          "execution_count": 46
        }
      ]
    },
    {
      "cell_type": "code",
      "metadata": {
        "id": "98e7R2Y9H8Db"
      },
      "source": [
        "def n(x,y):\r\n",
        "  sum=x+y\r\n",
        "  return sum"
      ],
      "execution_count": 47,
      "outputs": []
    },
    {
      "cell_type": "code",
      "metadata": {
        "colab": {
          "base_uri": "https://localhost:8080/"
        },
        "id": "o1Wk7QmBJPHH",
        "outputId": "0d3b8eb3-ec9c-4d35-ce69-10b6da7f46ed"
      },
      "source": [
        "n(5,10)"
      ],
      "execution_count": 61,
      "outputs": [
        {
          "output_type": "execute_result",
          "data": {
            "text/plain": [
              "15"
            ]
          },
          "metadata": {
            "tags": []
          },
          "execution_count": 61
        }
      ]
    },
    {
      "cell_type": "code",
      "metadata": {
        "colab": {
          "base_uri": "https://localhost:8080/"
        },
        "id": "eWft09eJKnfa",
        "outputId": "c8fbbe38-789b-4f7d-cbe6-9e1b70c131d5"
      },
      "source": [
        "def Taxi_fares(distance_km):\r\n",
        "  cost = 4\r\n",
        "  distance_m = float(distance_km)*1000\r\n",
        "  cost += (distance_m*0.25/140)\r\n",
        "  return cost\r\n",
        "Dist = input(\"input distance(KM): \")\r\n",
        "print(\"Total\",Taxi_fares(Dist))"
      ],
      "execution_count": 64,
      "outputs": [
        {
          "output_type": "stream",
          "text": [
            "input distance(KM): 14\n",
            "Total 29.0\n"
          ],
          "name": "stdout"
        }
      ]
    },
    {
      "cell_type": "code",
      "metadata": {
        "id": "5JeXG9hJLHWa"
      },
      "source": [
        ""
      ],
      "execution_count": null,
      "outputs": []
    }
  ]
}