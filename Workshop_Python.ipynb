{
  "nbformat": 4,
  "nbformat_minor": 0,
  "metadata": {
    "colab": {
      "name": "Workshop-Python.ipynb",
      "provenance": [],
      "toc_visible": true,
      "authorship_tag": "ABX9TyPexkXCNia2X/hoEYxLpT3E",
      "include_colab_link": true
    },
    "kernelspec": {
      "name": "python3",
      "display_name": "Python 3"
    }
  },
  "cells": [
    {
      "cell_type": "markdown",
      "metadata": {
        "id": "view-in-github",
        "colab_type": "text"
      },
      "source": [
        "<a href=\"https://colab.research.google.com/github/ZOYBAD14xx/workshop-python-9-01-2021/blob/main/Workshop_Python.ipynb\" target=\"_parent\"><img src=\"https://colab.research.google.com/assets/colab-badge.svg\" alt=\"Open In Colab\"/></a>"
      ]
    },
    {
      "cell_type": "markdown",
      "metadata": {
        "id": "PbIK6xdDO3fa"
      },
      "source": [
        "#**Core programming** \r\n",
        "\r\n",
        "\r\n",
        "1.   int\r\n",
        "2.   float/double\r\n",
        "3.   String\r\n",
        "\r\n",
        "\r\n",
        "\r\n",
        "\r\n",
        "\r\n",
        "\r\n"
      ]
    },
    {
      "cell_type": "code",
      "metadata": {
        "colab": {
          "base_uri": "https://localhost:8080/"
        },
        "id": "ZSthj3HfO_di",
        "outputId": "8ac6b0ee-7d7d-4475-87d9-e60134f7a62d"
      },
      "source": [
        "#integer\r\n",
        "x = 2\r\n",
        "print(x)\r\n",
        "type(x)\r\n"
      ],
      "execution_count": null,
      "outputs": [
        {
          "output_type": "stream",
          "text": [
            "2\n"
          ],
          "name": "stdout"
        },
        {
          "output_type": "execute_result",
          "data": {
            "text/plain": [
              "int"
            ]
          },
          "metadata": {
            "tags": []
          },
          "execution_count": 19
        }
      ]
    },
    {
      "cell_type": "code",
      "metadata": {
        "colab": {
          "base_uri": "https://localhost:8080/"
        },
        "id": "M1ARBkFMQFGC",
        "outputId": "9cc0ff5b-9aff-4370-9e75-7d80fa7c89c5"
      },
      "source": [
        "#float/double\r\n",
        "y = 3.14\r\n",
        "print(y)\r\n",
        "type(y)"
      ],
      "execution_count": null,
      "outputs": [
        {
          "output_type": "stream",
          "text": [
            "3.14\n"
          ],
          "name": "stdout"
        },
        {
          "output_type": "execute_result",
          "data": {
            "text/plain": [
              "float"
            ]
          },
          "metadata": {
            "tags": []
          },
          "execution_count": 18
        }
      ]
    },
    {
      "cell_type": "code",
      "metadata": {
        "id": "1JoLPKNNQW1Y"
      },
      "source": [
        "#String\r\n",
        "name = \"Khonepaserth\"\r\n",
        "surname = \"SOUNAKHEN\""
      ],
      "execution_count": null,
      "outputs": []
    },
    {
      "cell_type": "code",
      "metadata": {
        "colab": {
          "base_uri": "https://localhost:8080/",
          "height": 35
        },
        "id": "Y7TvljTkQjAn",
        "outputId": "25e8fb64-2042-47b6-93d7-3f775f69d256"
      },
      "source": [
        "name+\" \"+surname"
      ],
      "execution_count": null,
      "outputs": [
        {
          "output_type": "execute_result",
          "data": {
            "application/vnd.google.colaboratory.intrinsic+json": {
              "type": "string"
            },
            "text/plain": [
              "'Khonepaserth SOUNAKHEN'"
            ]
          },
          "metadata": {
            "tags": []
          },
          "execution_count": 17
        }
      ]
    },
    {
      "cell_type": "code",
      "metadata": {
        "colab": {
          "base_uri": "https://localhost:8080/"
        },
        "id": "X-Ryb9twQlT9",
        "outputId": "78517064-c8a6-4604-b8fc-9f5717272734"
      },
      "source": [
        "#logical\r\n",
        "\r\n",
        "a = True\r\n",
        "type(a)\r\n"
      ],
      "execution_count": null,
      "outputs": [
        {
          "output_type": "execute_result",
          "data": {
            "text/plain": [
              "bool"
            ]
          },
          "metadata": {
            "tags": []
          },
          "execution_count": 29
        }
      ]
    },
    {
      "cell_type": "code",
      "metadata": {
        "colab": {
          "base_uri": "https://localhost:8080/"
        },
        "id": "dOhgVz4fRkjj",
        "outputId": "85a92241-cc5f-46d0-ce41-bbaca026694c"
      },
      "source": [
        "#input\r\n",
        "name= input(\"Enter your name : \")\r\n",
        "surname= input(\"Enter your surname : \")\r\n",
        "Fullname = name+\" \"+surname\r\n",
        "print(Fullname)\r\n"
      ],
      "execution_count": null,
      "outputs": [
        {
          "output_type": "stream",
          "text": [
            "Enter your name : obie\n",
            "Enter your surname : snk\n",
            "obie snk\n"
          ],
          "name": "stdout"
        }
      ]
    },
    {
      "cell_type": "code",
      "metadata": {
        "colab": {
          "base_uri": "https://localhost:8080/"
        },
        "id": "xPTmEJwDS_Z7",
        "outputId": "f52c9092-6a84-4059-88d0-1174e9295a71"
      },
      "source": [
        "import math\r\n",
        "\r\n",
        "math.factorial(5)"
      ],
      "execution_count": null,
      "outputs": [
        {
          "output_type": "execute_result",
          "data": {
            "text/plain": [
              "120"
            ]
          },
          "metadata": {
            "tags": []
          },
          "execution_count": 36
        }
      ]
    },
    {
      "cell_type": "code",
      "metadata": {
        "colab": {
          "base_uri": "https://localhost:8080/"
        },
        "id": "1Jneay5fVNWg",
        "outputId": "754fe4ea-148e-4323-8b04-26c63a4267e7"
      },
      "source": [
        "round(math.sqrt(7))"
      ],
      "execution_count": null,
      "outputs": [
        {
          "output_type": "execute_result",
          "data": {
            "text/plain": [
              "3"
            ]
          },
          "metadata": {
            "tags": []
          },
          "execution_count": 37
        }
      ]
    },
    {
      "cell_type": "code",
      "metadata": {
        "colab": {
          "base_uri": "https://localhost:8080/"
        },
        "id": "Q9PnsjquVo6f",
        "outputId": "9dd61580-a6ad-4f09-f6a5-5b34fdb474c4"
      },
      "source": [
        "math.sqrt(7)"
      ],
      "execution_count": null,
      "outputs": [
        {
          "output_type": "execute_result",
          "data": {
            "text/plain": [
              "2.6457513110645907"
            ]
          },
          "metadata": {
            "tags": []
          },
          "execution_count": 38
        }
      ]
    },
    {
      "cell_type": "markdown",
      "metadata": {
        "id": "73syjG1aWuY_"
      },
      "source": [
        "# EX1"
      ]
    },
    {
      "cell_type": "code",
      "metadata": {
        "colab": {
          "base_uri": "https://localhost:8080/"
        },
        "id": "ifS8nZCbWx8Y",
        "outputId": "3306e328-ca2b-4a95-94cb-9e1371d1eb4b"
      },
      "source": [
        "name= \"Khonepaserth\"\r\n",
        "surname= \"SOUNAKHEN\"\r\n",
        "address= \"VT Capital\"\r\n",
        "Fullname = name+\" \"+surname\r\n",
        "print(\"Fullname: \"+Fullname)\r\n",
        "print(\"Address: \"+address)"
      ],
      "execution_count": null,
      "outputs": [
        {
          "output_type": "stream",
          "text": [
            "Fullname: Khonepaserth SOUNAKHEN\n",
            "Address: VT Capital\n"
          ],
          "name": "stdout"
        }
      ]
    },
    {
      "cell_type": "code",
      "metadata": {
        "id": "lB9c1_xHWy3W"
      },
      "source": [
        ""
      ],
      "execution_count": null,
      "outputs": []
    },
    {
      "cell_type": "markdown",
      "metadata": {
        "id": "_EbnY_6TXQq3"
      },
      "source": [
        "## Ex2"
      ]
    },
    {
      "cell_type": "code",
      "metadata": {
        "id": "-qT8O9qCXSyR"
      },
      "source": [
        "name = input(\"Enter your name: \")\r\n",
        "print(\"Hello \" +name)"
      ],
      "execution_count": null,
      "outputs": []
    },
    {
      "cell_type": "code",
      "metadata": {
        "colab": {
          "base_uri": "https://localhost:8080/"
        },
        "id": "7kOCkpd_X837",
        "outputId": "63654278-ec84-4b65-cbe9-ebb21aae397d"
      },
      "source": [
        "\r\n",
        "b=int(input(\"Enter base: \"))\r\n",
        "h=int(input(\"Enter height: \"))\r\n",
        "area = (b*h)/2\r\n",
        "i = \"Area of Triangle: \"\r\n",
        "print(i+str(area))"
      ],
      "execution_count": null,
      "outputs": [
        {
          "output_type": "stream",
          "text": [
            "Enter base: 5\n",
            "Enter height: 7\n",
            "Area of Triangle: 17.5\n"
          ],
          "name": "stdout"
        }
      ]
    },
    {
      "cell_type": "code",
      "metadata": {
        "id": "5mP95R4_ZNI2",
        "colab": {
          "base_uri": "https://localhost:8080/"
        },
        "outputId": "d112f613-9968-4e9e-e1f8-34c079c10d90"
      },
      "source": [
        "s1=int(input(\"Enter S1: \"))\r\n",
        "s2=int(input(\"Enter S2: \"))\r\n",
        "s3=int(input(\"Enter S3: \"))\r\n",
        "\r\n",
        "s=(s1+s2+s3)/2\r\n",
        "\r\n",
        "area = math.sqrt(s*(s-s1)*(s-s2)*(s-s3)) \r\n",
        "\r\n",
        "print(\"S : \"+str(s))\r\n",
        "\r\n",
        "i = \"Area of Triangle: \"\r\n",
        "print(i+str(area))"
      ],
      "execution_count": null,
      "outputs": [
        {
          "output_type": "stream",
          "text": [
            "Enter S1: 3\n",
            "Enter S2: 4\n",
            "Enter S3: 5\n",
            "S : 6.0\n",
            "Area of Triangle: 6.0\n"
          ],
          "name": "stdout"
        }
      ]
    },
    {
      "cell_type": "code",
      "metadata": {
        "id": "8BCcsHm2cgkg"
      },
      "source": [
        ""
      ],
      "execution_count": null,
      "outputs": []
    },
    {
      "cell_type": "markdown",
      "metadata": {
        "id": "1keSuyHNgjxE"
      },
      "source": [
        "Boolean Variable"
      ]
    },
    {
      "cell_type": "code",
      "metadata": {
        "colab": {
          "base_uri": "https://localhost:8080/"
        },
        "id": "O9hGr5O8gnpe",
        "outputId": "9235f95c-247d-43c6-b3c1-b6325e9aaa3f"
      },
      "source": [
        "a = 5 \r\n",
        "b = 6\r\n",
        "if a == b:\r\n",
        "  print(\"A = B\")\r\n",
        "else:\r\n",
        "  print(\"A != B\")"
      ],
      "execution_count": null,
      "outputs": [
        {
          "output_type": "stream",
          "text": [
            "A != B\n"
          ],
          "name": "stdout"
        }
      ]
    },
    {
      "cell_type": "code",
      "metadata": {
        "colab": {
          "base_uri": "https://localhost:8080/"
        },
        "id": "DWZjpZhMw1og",
        "outputId": "883acd23-5a4c-416b-e6c8-5acfc975b6fd"
      },
      "source": [
        "a = 10\r\n",
        "b = 11\r\n",
        "if (a or b) == 10:\r\n",
        "  print(\"True\")\r\n",
        "else:\r\n",
        "  print(\"False\")"
      ],
      "execution_count": null,
      "outputs": [
        {
          "output_type": "stream",
          "text": [
            "True\n"
          ],
          "name": "stdout"
        }
      ]
    },
    {
      "cell_type": "code",
      "metadata": {
        "id": "4PAEtYg7xT1V",
        "colab": {
          "base_uri": "https://localhost:8080/"
        },
        "outputId": "60961ceb-537d-4119-bd78-853cb1d4e53c"
      },
      "source": [
        "count = 0\r\n",
        "while count < 11:\r\n",
        "  print(count)\r\n",
        "  count += 1\r\n",
        "print(\"Loop is end\")"
      ],
      "execution_count": 143,
      "outputs": [
        {
          "output_type": "stream",
          "text": [
            "0\n",
            "1\n",
            "2\n",
            "3\n",
            "4\n",
            "5\n",
            "6\n",
            "7\n",
            "8\n",
            "9\n",
            "10\n",
            "Loop is end\n"
          ],
          "name": "stdout"
        }
      ]
    },
    {
      "cell_type": "code",
      "metadata": {
        "id": "iCFpmXDT2OYW"
      },
      "source": [
        ""
      ],
      "execution_count": null,
      "outputs": []
    },
    {
      "cell_type": "markdown",
      "metadata": {
        "id": "IujVr7Cy2hvN"
      },
      "source": [
        "# EX5"
      ]
    },
    {
      "cell_type": "code",
      "metadata": {
        "colab": {
          "base_uri": "https://localhost:8080/"
        },
        "id": "M0UNtV4U2jqe",
        "outputId": "9bff03d6-d26c-489f-d0d9-c7e51a5f22af"
      },
      "source": [
        "number = 1\r\n",
        "while number !=0:\r\n",
        "  number = int(input(\"Enter number :\"))\r\n",
        "  if number>0:\r\n",
        "    print(str(number) + \" is more than 0\")\r\n",
        "  elif number<0:\r\n",
        "    print(str(number)+\" is less than 0\")\r\n",
        "  else:\r\n",
        "    print(str(number)+\" = 0\")"
      ],
      "execution_count": 157,
      "outputs": [
        {
          "output_type": "stream",
          "text": [
            "Enter number :1\n",
            "1 is more than 0\n",
            "Enter number :2\n",
            "2 is more than 0\n",
            "Enter number :3\n",
            "3 is more than 0\n",
            "Enter number :-1\n",
            "-1 is less than 0\n",
            "Enter number :-2\n",
            "-2 is less than 0\n",
            "Enter number :-3\n",
            "-3 is less than 0\n",
            "Enter number :0\n",
            "0 = 0\n"
          ],
          "name": "stdout"
        }
      ]
    },
    {
      "cell_type": "code",
      "metadata": {
        "id": "gtocLC1l4utQ"
      },
      "source": [
        "list=[1,2,3,4]\r\n"
      ],
      "execution_count": 158,
      "outputs": []
    },
    {
      "cell_type": "code",
      "metadata": {
        "colab": {
          "base_uri": "https://localhost:8080/"
        },
        "id": "Se6rCObf50NH",
        "outputId": "a746d9e3-b803-49da-a197-d6b10f3cc3bf"
      },
      "source": [
        "list[2]"
      ],
      "execution_count": 159,
      "outputs": [
        {
          "output_type": "execute_result",
          "data": {
            "text/plain": [
              "3"
            ]
          },
          "metadata": {
            "tags": []
          },
          "execution_count": 159
        }
      ]
    },
    {
      "cell_type": "code",
      "metadata": {
        "colab": {
          "base_uri": "https://localhost:8080/"
        },
        "id": "GEvUK2u252bt",
        "outputId": "c635e4c1-dc99-4346-ca5e-cb69350f8edf"
      },
      "source": [
        "print(list)"
      ],
      "execution_count": 160,
      "outputs": [
        {
          "output_type": "stream",
          "text": [
            "[1, 2, 3, 4]\n"
          ],
          "name": "stdout"
        }
      ]
    },
    {
      "cell_type": "code",
      "metadata": {
        "colab": {
          "base_uri": "https://localhost:8080/"
        },
        "id": "KIlsf_-456AH",
        "outputId": "1c2db3f6-7a85-4d2f-c0aa-12668a2421b1"
      },
      "source": [
        "for a in list:\r\n",
        "  print(\"a in list : \"+str(a))"
      ],
      "execution_count": 163,
      "outputs": [
        {
          "output_type": "stream",
          "text": [
            "a in list : 1\n",
            "a in list : 2\n",
            "a in list : 3\n",
            "a in list : 4\n"
          ],
          "name": "stdout"
        }
      ]
    },
    {
      "cell_type": "code",
      "metadata": {
        "id": "MMaIzxVW6cJc"
      },
      "source": [
        "\r\n",
        "\r\n",
        "\r\n"
      ],
      "execution_count": 163,
      "outputs": []
    },
    {
      "cell_type": "code",
      "metadata": {
        "colab": {
          "base_uri": "https://localhost:8080/"
        },
        "id": "wq8qpB8r6vF9",
        "outputId": "42541cbd-4927-466d-c575-7768efcc7065"
      },
      "source": [
        "number = 1\r\n",
        "while number !=0:\r\n",
        "  number = int(input(\"Enter number : \"))\r\n",
        "  if number%2 == 0:\r\n",
        "    print(\"Number is Even\")\r\n",
        "  else:\r\n",
        "    print(\"Number is Odd\")"
      ],
      "execution_count": 197,
      "outputs": [
        {
          "output_type": "stream",
          "text": [
            "Enter number : 2\n",
            "Number is Even\n",
            "Enter number : 1\n",
            "Number is Odd\n",
            "Enter number : 3\n",
            "Number is Odd\n",
            "Enter number : 4\n",
            "Number is Even\n",
            "Enter number : 5\n",
            "Number is Odd\n",
            "Enter number : 10\n",
            "Number is Even\n",
            "Enter number : 0\n",
            "Number is Even\n"
          ],
          "name": "stdout"
        }
      ]
    },
    {
      "cell_type": "code",
      "metadata": {
        "id": "cx1Tb5wx7ijz"
      },
      "source": [
        ""
      ],
      "execution_count": 179,
      "outputs": []
    }
  ]
}